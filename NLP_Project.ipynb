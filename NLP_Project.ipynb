{
  "nbformat": 4,
  "nbformat_minor": 0,
  "metadata": {
    "colab": {
      "provenance": []
    },
    "kernelspec": {
      "name": "python3",
      "display_name": "Python 3"
    },
    "language_info": {
      "name": "python"
    }
  },
  "cells": [
    {
      "cell_type": "code",
      "source": [
        "!pip install python-docx\n",
        "!pip install nltk\n",
        "!pip install gensim"
      ],
      "metadata": {
        "colab": {
          "base_uri": "https://localhost:8080/"
        },
        "id": "rhd4x_-O_o2M",
        "outputId": "c58778ad-ace3-4ede-c62a-3e8e2d65d223"
      },
      "execution_count": null,
      "outputs": [
        {
          "output_type": "stream",
          "name": "stdout",
          "text": [
            "Looking in indexes: https://pypi.org/simple, https://us-python.pkg.dev/colab-wheels/public/simple/\n",
            "Requirement already satisfied: python-docx in /usr/local/lib/python3.9/dist-packages (0.8.11)\n",
            "Requirement already satisfied: lxml>=2.3.2 in /usr/local/lib/python3.9/dist-packages (from python-docx) (4.9.2)\n",
            "Looking in indexes: https://pypi.org/simple, https://us-python.pkg.dev/colab-wheels/public/simple/\n",
            "Requirement already satisfied: nltk in /usr/local/lib/python3.9/dist-packages (3.8.1)\n",
            "Requirement already satisfied: click in /usr/local/lib/python3.9/dist-packages (from nltk) (8.1.3)\n",
            "Requirement already satisfied: joblib in /usr/local/lib/python3.9/dist-packages (from nltk) (1.1.1)\n",
            "Requirement already satisfied: tqdm in /usr/local/lib/python3.9/dist-packages (from nltk) (4.65.0)\n",
            "Requirement already satisfied: regex>=2021.8.3 in /usr/local/lib/python3.9/dist-packages (from nltk) (2022.10.31)\n",
            "Looking in indexes: https://pypi.org/simple, https://us-python.pkg.dev/colab-wheels/public/simple/\n",
            "Requirement already satisfied: gensim in /usr/local/lib/python3.9/dist-packages (3.6.0)\n",
            "Requirement already satisfied: six>=1.5.0 in /usr/local/lib/python3.9/dist-packages (from gensim) (1.15.0)\n",
            "Requirement already satisfied: smart-open>=1.2.1 in /usr/local/lib/python3.9/dist-packages (from gensim) (6.3.0)\n",
            "Requirement already satisfied: scipy>=0.18.1 in /usr/local/lib/python3.9/dist-packages (from gensim) (1.10.1)\n",
            "Requirement already satisfied: numpy>=1.11.3 in /usr/local/lib/python3.9/dist-packages (from gensim) (1.22.4)\n"
          ]
        }
      ]
    },
    {
      "cell_type": "code",
      "source": [
        "import numpy as np \n",
        "import pandas as pd"
      ],
      "metadata": {
        "id": "BeXvF4r8P2SL"
      },
      "execution_count": null,
      "outputs": []
    },
    {
      "cell_type": "markdown",
      "source": [
        "# Part 1: Text Extraction and Segmentation\n"
      ],
      "metadata": {
        "id": "8qrfuqGeu7Jx"
      }
    },
    {
      "cell_type": "code",
      "source": [
        "import docx\n",
        "from docx import Document\n",
        "from docx.shared import Inches\n",
        "import sys\n",
        "import re"
      ],
      "metadata": {
        "id": "qlRvSlci4Hsv"
      },
      "execution_count": null,
      "outputs": []
    },
    {
      "cell_type": "code",
      "source": [
        "import nltk\n",
        "nltk.download('punkt')\n",
        "nltk.download('stopwords')\n",
        "from nltk.tokenize import word_tokenize, sent_tokenize\n",
        "import gensim"
      ],
      "metadata": {
        "colab": {
          "base_uri": "https://localhost:8080/"
        },
        "id": "GmkmBh4Wa6_o",
        "outputId": "5ebc40ea-a856-44f8-bf3b-0b9e712a6f3f"
      },
      "execution_count": null,
      "outputs": [
        {
          "output_type": "stream",
          "name": "stderr",
          "text": [
            "[nltk_data] Downloading package punkt to /root/nltk_data...\n",
            "[nltk_data]   Unzipping tokenizers/punkt.zip.\n",
            "[nltk_data] Downloading package stopwords to /root/nltk_data...\n",
            "[nltk_data]   Unzipping corpora/stopwords.zip.\n"
          ]
        }
      ]
    },
    {
      "cell_type": "markdown",
      "source": [
        "## Case 1: If the document uses the headings style"
      ],
      "metadata": {
        "id": "UqKJdwzeZCac"
      }
    },
    {
      "cell_type": "code",
      "source": [
        "# for the document conatains headings style\n",
        "def read_file_style(filename):\n",
        "  try:\n",
        "    document = docx.Document(filename)\n",
        "    headings = []\n",
        "    texts = []\n",
        "    para = []\n",
        "    for paragraph in document.paragraphs:\n",
        "      # if the text uses headings style, append headings to headings as section titles\n",
        "      if paragraph.style.name.startswith(\"Heading\"):\n",
        "        if headings:\n",
        "          texts.append(para)\n",
        "        headings.append(paragraph.text)\n",
        "        para = []\n",
        "      # else if, keep paragraphs to texts list  \n",
        "      elif paragraph.style.name == \"Normal\":\n",
        "        # reomve empty lines\n",
        "        if paragraph.text != '':\n",
        "          para.append(paragraph.text)\n",
        "    if para or len(headings)>len(texts):\n",
        "      texts.append(texts.append(para))\n",
        "    \n",
        "    # remove None elements in the list\n",
        "    texts = [i for i in texts if i is not None] \n",
        "    # remove nested lists\n",
        "    cleaned_texts = []\n",
        "    [cleaned_texts.append(''.join(i)) for i in texts]\n",
        "    \n",
        "    return headings, cleaned_texts\n",
        "\n",
        "  except IOError:\n",
        "    print(\"Error opening or reading input file: \", filename)\n",
        "    sys.exit()"
      ],
      "metadata": {
        "id": "mOe0YuCJo2A6"
      },
      "execution_count": null,
      "outputs": []
    },
    {
      "cell_type": "markdown",
      "source": [
        "## Case 2: If section number of the file starts with a number or a roman numerals"
      ],
      "metadata": {
        "id": "Y-P24pHSZI_6"
      }
    },
    {
      "cell_type": "code",
      "source": [
        "# for the document contains section numbers\n",
        "def read_file_num(filename):\n",
        "  try:\n",
        "    doc = docx.Document(filename)\n",
        "    texts = []\n",
        "    for para in doc.paragraphs:\n",
        "      texts.append(para.text)\n",
        "    # remove empty lines\n",
        "    texts = [x for x in texts if x.strip()] \n",
        "\n",
        "    # identify and segement the section\n",
        "    y = \"^(\\d*\\. |M{0,3}(CM|CD|D?C{0,3})(XC|XL|L?X{0,3})(IX|IV|V?I{0,3})\\. )+\"\n",
        "    joined_texts = []\n",
        "    current_sentence = \"\"\n",
        "    for sentence in texts:\n",
        "      # if the section startwith numbers, eg. \"1. \" or roman numerals, eg. \"I. \", use regex expression to detect\n",
        "      x = re.search(y, sentence)\n",
        "      # group the paragraphs by section numbers\n",
        "      if current_sentence and x:\n",
        "        joined_texts.append(current_sentence.strip())\n",
        "        current_sentence = \"\"\n",
        "      current_sentence += sentence + \" \"\n",
        "    if current_sentence:\n",
        "      joined_texts.append(current_sentence.strip())\n",
        "\n",
        "    # extract section titles from paragraphs\n",
        "    titles = []\n",
        "    for i in joined_texts:\n",
        "      x = re.search(y, i)\n",
        "      # if there is a section number, append the section title\n",
        "      if x : \n",
        "        if not i.startswith('V. '):\n",
        "          titles.append(sent_tokenize(i)[1])\n",
        "        else:\n",
        "          titles.append(sent_tokenize(i)[0])\n",
        "      # if not, append the first sentence of the paragraph\n",
        "      else:\n",
        "        titles.append(sent_tokenize(i)[0])\n",
        "\n",
        "    return titles, joined_texts\n",
        "    \n",
        "  except IOError:\n",
        "    print(\"Error opening or reading input file: \", filename)\n",
        "    sys.exit()"
      ],
      "metadata": {
        "id": "de4Fazja4WEu"
      },
      "execution_count": null,
      "outputs": []
    },
    {
      "cell_type": "code",
      "source": [
        "# Case 1\n",
        "# read playbook\n",
        "doc1 = read_file_style('/content/Employment-Contract-Template-Download-20201125.docx')\n",
        "# read uploaded document\n",
        "doc2 = read_file_style('/content/event-vendor-contract.docx')"
      ],
      "metadata": {
        "id": "pwvT8DlyQapR"
      },
      "execution_count": null,
      "outputs": []
    },
    {
      "cell_type": "code",
      "source": [
        "# Case 2\n",
        "# read playbook\n",
        "doc3 = read_file_num('/content/Employment-Contract-Agreement.docx')\n",
        "# read uploaded document\n",
        "doc4 = read_file_num('/content/At-Will-Employment-Contract.docx')"
      ],
      "metadata": {
        "id": "bi6bN_ZNRoGJ"
      },
      "execution_count": null,
      "outputs": []
    },
    {
      "cell_type": "markdown",
      "source": [
        "# Part 2: Text Matching"
      ],
      "metadata": {
        "id": "MSLtXkRivsfq"
      }
    },
    {
      "cell_type": "code",
      "source": [
        "# Use nltk's English stopwords\n",
        "stopwords = nltk.corpus.stopwords.words('english') \n",
        "new_stopwords = ['shall','agreement','contract','party','date','one','may','hundred','time','will','make','term','section','thousand']\n",
        "stopwords.extend('new_stopwords')"
      ],
      "metadata": {
        "id": "Lkq2Ia-h7Btr"
      },
      "execution_count": null,
      "outputs": []
    },
    {
      "cell_type": "markdown",
      "source": [
        "### calculte the weighted average of two scores"
      ],
      "metadata": {
        "id": "M-SxE96gKGsI"
      }
    },
    {
      "cell_type": "code",
      "source": [
        "# assign weights to both score and calculate the weighted average\n",
        "\n",
        "# get the weighted title score\n",
        "def similarity_title(weight, playbook, document):\n",
        "\n",
        "  # exclude stop words and tokenize words of headings (NLTK) and create dictionary of the playbook\n",
        "  gen_docs = [[w.lower() for w in word_tokenize(i) if w not in stopwords] for i in playbook[0]]\n",
        "  dictionary = gensim.corpora.Dictionary(gen_docs)\n",
        "  # create a bag of words and its frequency in each document\n",
        "  corpus = [dictionary.doc2bow(gen_doc) for gen_doc in gen_docs]\n",
        "  # calculate TFIDF\n",
        "  tf_idf = gensim.models.TfidfModel(corpus)\n",
        "  # creating similarity measure object\n",
        "  sims = gensim.similarities.Similarity('/content/Untitled Folder',tf_idf[corpus], num_features=len(dictionary))\n",
        "\n",
        "  # processing headings of the second document\n",
        "  score_title = []\n",
        "  for i in range(len(document[0])):\n",
        "    query_doc = [w.lower() for w in word_tokenize(document[0][i]) if w not in stopwords]\n",
        "    query_doc_bow = dictionary.doc2bow(query_doc)\n",
        "    query_doc_tf_idf = tf_idf[query_doc_bow]\n",
        "    # find similarity for each document and assign the weight\n",
        "    score_title.append(list(weight * sims[query_doc_tf_idf]))\n",
        "\n",
        "  return score_title\n",
        "\n",
        "# get the weighted paragraph score  \n",
        "def similarity_para(weight, playbook, document):\n",
        "\n",
        "  # exclude stop words and tokenize words of paragraphs (NLTK) and create dictionary of the playbook\n",
        "  gen_docs = [[w.lower() for w in word_tokenize(i) if w not in stopwords] for i in playbook[1]]\n",
        "  dictionary = gensim.corpora.Dictionary(gen_docs)\n",
        "  # create a bag of words and its frequency in each document\n",
        "  corpus = [dictionary.doc2bow(gen_doc) for gen_doc in gen_docs]\n",
        "  # calculate TFIDF\n",
        "  tf_idf = gensim.models.TfidfModel(corpus)\n",
        "  # creating similarity measure object\n",
        "  sims = gensim.similarities.Similarity('/content/Untitled Folder',tf_idf[corpus], num_features=len(dictionary))\n",
        "\n",
        "  # processing paragraphs of the second document\n",
        "  score_para = []\n",
        "  for i in range(len(document[1])):\n",
        "    query_doc = [w.lower() for w in word_tokenize(document[1][i]) if w not in stopwords]\n",
        "    query_doc_bow = dictionary.doc2bow(query_doc)\n",
        "    query_doc_tf_idf = tf_idf[query_doc_bow]\n",
        "    # find similarity for each document and assign the weight\n",
        "    score_para.append(list(weight * sims[query_doc_tf_idf]))\n",
        "  \n",
        "  return score_para\n",
        "\n",
        "# calculate the weighted average of each sections    \n",
        "def weighted_avg(title_score, para_score):\n",
        "  results = []\n",
        "  for i in range(len(title_score)):\n",
        "    nested_results = []\n",
        "    for j in range(len(title_score[i])):\n",
        "      weighted_avg = (title_score[i][j] + para_score[i][j])/40\n",
        "      nested_results.append(weighted_avg)\n",
        "    results.append(nested_results)\n",
        "  return results"
      ],
      "metadata": {
        "id": "8Dt6ZogrRgUw"
      },
      "execution_count": null,
      "outputs": []
    },
    {
      "cell_type": "code",
      "source": [
        "# get the score\n",
        "title_score = similarity_title(10, doc3, doc4)\n",
        "para_score = similarity_para(30, doc3, doc4)\n",
        "final_score = weighted_avg(title_score, para_score)"
      ],
      "metadata": {
        "id": "DKhQZmpOK8o9",
        "colab": {
          "base_uri": "https://localhost:8080/"
        },
        "outputId": "31082b35-b1ec-4511-a592-035c47830ac7"
      },
      "execution_count": null,
      "outputs": [
        {
          "output_type": "stream",
          "name": "stderr",
          "text": [
            "/usr/local/lib/python3.9/dist-packages/gensim/similarities/docsim.py:518: FutureWarning: arrays to stack must be passed as a \"sequence\" type such as list or tuple. Support for non-sequence iterables such as generators is deprecated as of NumPy 1.16 and will raise an error in the future.\n",
            "  result = numpy.hstack(shard_results)\n"
          ]
        }
      ]
    },
    {
      "cell_type": "markdown",
      "source": [
        "## match the section"
      ],
      "metadata": {
        "id": "e-sFj9N7DAbQ"
      }
    },
    {
      "cell_type": "code",
      "source": [
        "# match the paragaphs with the highest score\n",
        "matched = []\n",
        "for i in final_score: \n",
        "  indices = np.argmax(i)\n",
        "  matched.append(doc3[1][indices])\n",
        "\n",
        "for i in range(len(doc4[1])):\n",
        "  print(\"Document: \", doc4[1][i])\n",
        "  print(\"Playbook: \", matched[i])\n",
        "  print()"
      ],
      "metadata": {
        "colab": {
          "base_uri": "https://localhost:8080/"
        },
        "id": "m2kofljLlv32",
        "outputId": "5a4e58ff-a0c2-40c0-c86d-2f53d999a06f"
      },
      "execution_count": null,
      "outputs": [
        {
          "output_type": "stream",
          "name": "stdout",
          "text": [
            "Document:  AT-WILL EMPLOYMENT AGREEMENT This employment agreement (“Agreement”) is made and effective as of ___________________, 20___ by and between a(n)  Individual  Business Entity known as ___________________ having its principal place of business at ___________________, City of ___________________, State of ___________________ (“Employer”) and ___________________ with a mailing address of ___________________, City of ___________________, State of ___________________ (“Employee”). WHEREAS the Employer intends to hire the Employee for the position of ___________________ and the Employee desires to provide their services on the conditions set forth. IN CONSIDERATION of promises and other good and valuable consideration the parties agree to the following:\n",
            "Playbook:  EMPLOYMENT CONTRACT AGREEMENT This Employment Contract (“Agreement”) is made as of the ____ day of ______________________, 20____ between ______________________ with a mailing address of ______________________, City of ______________________, State of ______________________ (“Employer”), and ______________________ (“Employee”). WHEREAS the Employer desires to obtain the benefit of the services of the Employee, and the Employee desires to render such services on the terms and conditions set forth. IN CONSIDERATION of the promises and other good and valuable consideration, the parties agree as follows:\n",
            "\n",
            "Document:  I. Employee Duties. The Employee agrees that they will act in accordance with this Agreement and with the best interests of the Employer in mind, which may or may not require them to present the best of their skills, experience, and talents, to perform all the duties required of the position. In carrying out the duties and responsibilities of their position, the Employee agrees to adhere to any and all policies, procedures, rules, regulations, as administered by the Employer. In addition, the Employee agrees to abide by all local, county, State, and Federal laws while employed by the Employer.\n",
            "Playbook:  I. Employment. The Employee acknowledges that they will, at all times, faithfully, industriously, and to the best of their skills, experience, and talents, perform all of the duties required of the Position. In carrying out these duties and responsibilities, the Employee shall comply with all Employer policies, procedures, rules, and regulations, both written and oral, as are announced by the Employer from time to time.\n",
            "\n",
            "Document:  II. Responsibilities. The Employee shall be given the job title of ___________________ (“Position”) which shall involve: __________________________________________________.  The Employer may also assign duties to the Employee from time to time by the Employer. The Employee shall be expected to work  full-time  part-time.\n",
            "Playbook:  II. Position Title. As a ______________________ (“Position”), the Employee is required to perform all of their necessary job functions and duties, and all other duties that may be assigned to Employee from time to time by Employer. This is a ☐ Part-Time ☐ Full-Time position with the expectation that the Employee will devote ____ hours per week to the Position. This may change from time to time as the Employer sees fit.\n",
            "\n",
            "Document:  III. At-Will. The Employer agrees to hire the Employee “At-Will” which means this Agreement is able to be terminated at any time by either the Employee or Employer. After termination by any of the Parties, neither will have any obligation other than the non-disclosure of the Employer’s proprietary information as outlined in Section XII and any non-compete listed in Section XIII. Employee’s Termination. The Employee shall have the right to terminate this Agreement by providing at least ___ days’ notice. If the Employee should terminate this Agreement, he or she shall be entitled to severance, equal to their pay at the time of termination, for a period of ___________________. Employer’s Termination. The Employer shall have the right to terminate this Agreement by providing at least ___ days’ notice. If the Employer should terminate this Agreement, the Employee shall be entitled to severance, equal to their pay at the time of termination, for a period of ___________________.\n",
            "Playbook:  VIII. Severance. Should the Employer terminate this Agreement at any time after the Probationary Period, the Employee: ☐ - Shall be Entitled to Severance. Severance shall be equal to the Employee’s pay at the time of termination and shall last for a duration of ______________________ after the termination date. ☐ - Shall Not be Entitled to Severance. If terminated, the Employee’s pay, benefits, and any other privileges provided by the Employer shall terminate immediately.\n",
            "\n",
            "Document:  IV. Pay. As compensation for the services provided, the Employee shall be paid ___________________ dollars ($___________________)  per hour  salary on an annual basis (“Compensation”). The Compensation is a gross amount that is subject to all local, State, Federal, and any other taxes and deductions as prescribed by law. Payment shall be distributed to the Employee on a  weekly  bi-weekly  monthly  quarterly  annual basis. Commissions. In addition to the aforementioned Pay, the Employee shall be entitled to commissions that are to be paid every ___________________ and shall be calculated as follows: __________________________________________________ ______________________________________________________________________________________________________________________________________ Bonus. The Employee shall be entitled to Bonuses on a ___________________ basis which is to be calculated as follows: __________________________________ ______________________________________________________________________________________________________________________________________\n",
            "Playbook:  III. Compensation. As full compensation for all services provided, the Employee shall be paid at the rate of _______________ dollars ($__________) per ☐ Hour ☐ Annually and will be subject to review of their work on a periodic basis. Such payments shall be subject to standard mandatory deductions by the Employer (i.e., Federal & State Taxes, Social Security, Medicare) and shall be made on a ☐ Weekly ☐ Bi-Weekly ☐ Monthly ☐ Quarterly ☐ Annual basis.\n",
            "\n",
            "Document:  V. Employee Benefits. During the period of employment, the Employee shall be eligible to participate in benefits established by the Employer. These include _______________________ ________________________________________________________________________________________________________________________________________________________ The aforementioned benefits may change at any time by the Employer.\n",
            "Playbook:  IV. Benefits. In addition, the Employee will be eligible to participate in bonuses and other employee benefit plans established by the Company for its employees. The Employer currently offers the following benefits to its employees: __________________ __________________________________________________________________________________________________________________________________ (“Benefits”)\n",
            "\n",
            "Document:  VI. Out-of-Pocket Expenses. The Employer agrees to reimburse the Employee for any expenses that are incurred including: (check all that apply)  - Travel  - Food  - Lodging  - Other: ___________________________________________________________________\n",
            "Playbook:  VI. Paid Time Off. The Employee is not eligible for any type of paid or unpaid leave until after the Probationary Period has passed successfully. The Employee shall be entitled to the following paid time off: (check all that apply) ☐ - Paid Vacation time in the amount of ____ ☐ Days ☐ Weeks ☐ Months per year; ☐ - Paid Sick leave in the amount of ____ ☐ Days ☐ Weeks ☐ Months per year; ☐ - Other: _____________________________________________________________ The Employer reserves the right to change or otherwise modify, in its sole discretion, any paid time off policies.\n",
            "\n",
            "Document:  VII. Ownership Interest. This Agreement shall  not include  *include partial ownership in the business operations of the Employer.  *If such ownership is offered, the details shall be stated in an attached Exhibit.\n",
            "Playbook:  IX. Non-Competition Covenant & Confidentiality. During the term of employment, the Employee may have access to certain confidential information and may develop certain proprietary information or inventions that will be the property of the Employer. Employee agrees not to disclose any such information that has been learned, created, or discuss future plans with anyone except for those within the company of the Employer and their qualified representatives, agents, and any authorized personnel. This shall be in effect for ____ ☐ Days ☐ Weeks ☐ Months after the termination of the Employee’s employment (“Non-Compete Period”). If the Non-Compete Period is longer than the State mandated time-frame, the Non-Compete Period shall be the maximum time-period allowed by law. Employer requires that the Employee shall not bring any confidential or proprietary material of any former employer or to violate any other obligations the Employee may have to any former employer. During the period that Employee renders services to the Employer, Employee agrees to not engage in any employment, business, or activity that is in any way competitive with the business or proposed business of the Employer. Employee shall disclose to the Employer in writing any other gainful employment, business, or activity that he or she is currently associated with or participating in that competes with the Employer. Employee shall not assist any other person or organization in competing with the Employer or in preparing to engage in competition with the business or prospective business(es) of the Employer. Furthermore, it is agreed that during the Non-Compete Period the Employee shall not hire or attempt to employ any current employees of the Employer. It is further acknowledged and agreed that during the Non-Compete Period the Employee shall not solicit business from the Employer, including but not limited to, current or past clients that were retained by the Employer.\n",
            "\n",
            "Document:  VIII. Trial Period. Other than certain benefits prescribed by law, the Employee will not be eligible for Benefits, Vacation Time, or Personal Leave until after the first ___ days of employment (“Trial Period”). In addition, the Employee will not be eligible vacation time, sick leave, or any time off that would be paid or unpaid.\n",
            "Playbook:  V. Probationary Period. It is understood and agreed that the first ____ days of employment shall constitute an initial term for the Employee (“Probationary Period”). During the Probationary Period, the Employee is not eligible for paid time off or other Benefits as mentioned in Section IV. During the Probationary Period, the Employer retains the right to exercise at will employment at any time and may terminate the Employee at any time without notice or cause in accordance with State and Federal laws.\n",
            "\n",
            "Document:  IX. Vacation Time. After the Trial Period is complete, the Employee is entitled to ___ days off per year of which is required to be mutually benefiting of the Employer and the Employee. It is required for the Employee to give notice before scheduling their vacation in accordance with Company policy. Any unused Vacation Time shall be (check one):  - Converted to cash at the end of the year at a rate of $___ per day.  - Eligible to rollover up to ___ days to the next year.  - Forfeited at the end of the year.  - Other: _____________________________________________________.\n",
            "Playbook:  VI. Paid Time Off. The Employee is not eligible for any type of paid or unpaid leave until after the Probationary Period has passed successfully. The Employee shall be entitled to the following paid time off: (check all that apply) ☐ - Paid Vacation time in the amount of ____ ☐ Days ☐ Weeks ☐ Months per year; ☐ - Paid Sick leave in the amount of ____ ☐ Days ☐ Weeks ☐ Months per year; ☐ - Other: _____________________________________________________________ The Employer reserves the right to change or otherwise modify, in its sole discretion, any paid time off policies.\n",
            "\n",
            "Document:  X. Personal Leave. After the Trial Period, the Employee shall be eligible for ___ days of  paid  unpaid time off per year for personal and/or medical issues.  Any unused Personal Leave shall be: (check one)  - Converted to cash at the end of the year at a rate of $___ per day.  - Eligible to rollover up to ___ days to the next year.  - Forfeited at the end of the year.  - Other: _____________________________________________________. If for any reason the Employee depletes their amount of days of personal leave in a given year, he or she  may  may not be able to use any remaining vacation time.\n",
            "Playbook:  VI. Paid Time Off. The Employee is not eligible for any type of paid or unpaid leave until after the Probationary Period has passed successfully. The Employee shall be entitled to the following paid time off: (check all that apply) ☐ - Paid Vacation time in the amount of ____ ☐ Days ☐ Weeks ☐ Months per year; ☐ - Paid Sick leave in the amount of ____ ☐ Days ☐ Weeks ☐ Months per year; ☐ - Other: _____________________________________________________________ The Employer reserves the right to change or otherwise modify, in its sole discretion, any paid time off policies.\n",
            "\n",
            "Document:  XI. Federal Holidays. The Employee shall be entitled to ___ federal holidays per calendar year. This is subject to change by the Employer from time to time. If for any reason the Employee should request a Federal Holiday off, the Employer shall determine if the Employee may do so and if it shall be taken from either the Employee’s Personal Leave or Vacation Time. Federal Holidays are determined by the Employer and may change every calendar year.\n",
            "Playbook:  VI. Paid Time Off. The Employee is not eligible for any type of paid or unpaid leave until after the Probationary Period has passed successfully. The Employee shall be entitled to the following paid time off: (check all that apply) ☐ - Paid Vacation time in the amount of ____ ☐ Days ☐ Weeks ☐ Months per year; ☐ - Paid Sick leave in the amount of ____ ☐ Days ☐ Weeks ☐ Months per year; ☐ - Other: _____________________________________________________________ The Employer reserves the right to change or otherwise modify, in its sole discretion, any paid time off policies.\n",
            "\n",
            "Document:  XII. Confidentiality. The Employee understands and agrees to keep any and all information confidential regarding the business plans, inventions, designs, products, services, processes, trade secrets, copyrights, trademarks, customer information, customer lists, prices, analytics data, costs, affairs, and any other information that could be considered proprietary to the Employer (“Confidential Information”). The Employee understands that disclosure of any such Confidential Information, either directly or indirectly, shall result in litigation with the Employer eligible for equitable relief to the furthest extent of the law, including but not limited to, filing claims for losses and/or damages. In addition, if it is found that the Employee divulged Confidential Information to a third (3rd) party with the Employer shall be entitled any and all reimbursement for their legal and attorney’s fees. Post Termination. After the Employee has terminated their employment with the Employer, the Employee shall be bound to Section XII of this Agreement for a period of ____  Months  Years (“Confidentiality Term”). If the Confidentiality Term is beyond any limit set by local, State, or Federal laws, then the Confidentiality Term shall be the maximum allowed legal time-frame.\n",
            "Playbook:  IX. Non-Competition Covenant & Confidentiality. During the term of employment, the Employee may have access to certain confidential information and may develop certain proprietary information or inventions that will be the property of the Employer. Employee agrees not to disclose any such information that has been learned, created, or discuss future plans with anyone except for those within the company of the Employer and their qualified representatives, agents, and any authorized personnel. This shall be in effect for ____ ☐ Days ☐ Weeks ☐ Months after the termination of the Employee’s employment (“Non-Compete Period”). If the Non-Compete Period is longer than the State mandated time-frame, the Non-Compete Period shall be the maximum time-period allowed by law. Employer requires that the Employee shall not bring any confidential or proprietary material of any former employer or to violate any other obligations the Employee may have to any former employer. During the period that Employee renders services to the Employer, Employee agrees to not engage in any employment, business, or activity that is in any way competitive with the business or proposed business of the Employer. Employee shall disclose to the Employer in writing any other gainful employment, business, or activity that he or she is currently associated with or participating in that competes with the Employer. Employee shall not assist any other person or organization in competing with the Employer or in preparing to engage in competition with the business or prospective business(es) of the Employer. Furthermore, it is agreed that during the Non-Compete Period the Employee shall not hire or attempt to employ any current employees of the Employer. It is further acknowledged and agreed that during the Non-Compete Period the Employee shall not solicit business from the Employer, including but not limited to, current or past clients that were retained by the Employer.\n",
            "\n",
            "Document:  XIII. Non-Compete. (check one)  - There shall be no Non-Compete established in this Agreement.  - During the term of employment, the Employee understands that he or she will be subject to learning proprietary information, including trade secrets, which could be applied to competitors of the employer. Therefore, in order to protect the fiduciary interests of the Employer, the Employee agrees to: (check all that apply) ☐ - Withhold from working in the following industry(ies): _________________________ ______________________________________________________________________ ☐ - Withhold from working for the following employer(s): _________________________ ______________________________________________________________________  - Withhold from working in the same industry(ies) as the Employer in the following area(s): ______________________________________________________________________  - Other: _____________________________________________________________ This Non-Compete shall be in effect for ____  Months  Years following the date of Employee’s termination. This Section shall be applied to the Employee engaging, directly or indirectly, any competitive industry. This includes, but is not limited to:  Communicating with related business owners, partners, members, officers, or agents; Being employed by or consulting any related business; Being self-employed in a related business; or Soliciting any customer, client, affiliate, vendor, or any other relationship of the Employer.\n",
            "Playbook:  IX. Non-Competition Covenant & Confidentiality. During the term of employment, the Employee may have access to certain confidential information and may develop certain proprietary information or inventions that will be the property of the Employer. Employee agrees not to disclose any such information that has been learned, created, or discuss future plans with anyone except for those within the company of the Employer and their qualified representatives, agents, and any authorized personnel. This shall be in effect for ____ ☐ Days ☐ Weeks ☐ Months after the termination of the Employee’s employment (“Non-Compete Period”). If the Non-Compete Period is longer than the State mandated time-frame, the Non-Compete Period shall be the maximum time-period allowed by law. Employer requires that the Employee shall not bring any confidential or proprietary material of any former employer or to violate any other obligations the Employee may have to any former employer. During the period that Employee renders services to the Employer, Employee agrees to not engage in any employment, business, or activity that is in any way competitive with the business or proposed business of the Employer. Employee shall disclose to the Employer in writing any other gainful employment, business, or activity that he or she is currently associated with or participating in that competes with the Employer. Employee shall not assist any other person or organization in competing with the Employer or in preparing to engage in competition with the business or prospective business(es) of the Employer. Furthermore, it is agreed that during the Non-Compete Period the Employee shall not hire or attempt to employ any current employees of the Employer. It is further acknowledged and agreed that during the Non-Compete Period the Employee shall not solicit business from the Employer, including but not limited to, current or past clients that were retained by the Employer.\n",
            "\n",
            "Document:  XIV. Employee’s Role. The Employee ☐ shall ☐ shall not have the right to act in the capacity of the Employer. This includes, but is not limited to, making written or verbal agreements with any customer, client, affiliate, vendor, or third (3rd) party.\n",
            "Playbook:  VII. Employment Type. The Employer and Employee agree to enter into an: ☐ - At-Will Employment Arrangement. As the Employer and Employee will attempt, in good-faith, to a long profitable and good standing relationship, the employment relationship shall be considered “At-Will” which means the relationship can be terminated by either party. Furthermore, termination may be for any reason, at any time, and with or without cause. Any statements or representation to the contrary should be regarded as void and invalid. ☐ - Notice Required. Termination of this Agreement must be made with at least ______________________ notice to the other party. ☐ - No Notice Required. Under no circumstance shall notice, written or oral, be required to terminate this Agreement. ☐ - Fixed Term Employment Agreement. The Employer and Employee agree that the employment for the Position shall begin on the ____ day of ______________________, 20____ and end on the ____ day of ______________________, 20____.  ☐ - Employer’s Termination (Fixed Term). If the Employer decides to terminate this Agreement before its end date, there shall be: ☐ No Penalty. ☐ A penalty in the amount of $______________________ that shall be paid to the employee.  ☐ - Employee’s Termination (Fixed Term). If the Employee decides to terminate this Agreement before its end date, there shall be: ☐ No Penalty. ☐ A penalty in the amount of $______________________ that shall be paid to the employer.\n",
            "\n",
            "Document:  XV. Appearance. The Employee must appear at the Employer’s desired workplace at the time scheduled. If the Employee does not appear, for any reason, on more than ____ separate occasions in a 12-month calendar period the Employer has the right to terminate this Agreement immediately. In such event, the Employee would not be granted severance as stated in Section III.\n",
            "Playbook:  VIII. Severance. Should the Employer terminate this Agreement at any time after the Probationary Period, the Employee: ☐ - Shall be Entitled to Severance. Severance shall be equal to the Employee’s pay at the time of termination and shall last for a duration of ______________________ after the termination date. ☐ - Shall Not be Entitled to Severance. If terminated, the Employee’s pay, benefits, and any other privileges provided by the Employer shall terminate immediately.\n",
            "\n",
            "Document:  XVI. Disability. If for any reason the Employee cannot perform their duties, by physical or mental disability, the Employer may terminate this Agreement by giving the Employee ____ days’ written notice.\n",
            "Playbook:  VII. Employment Type. The Employer and Employee agree to enter into an: ☐ - At-Will Employment Arrangement. As the Employer and Employee will attempt, in good-faith, to a long profitable and good standing relationship, the employment relationship shall be considered “At-Will” which means the relationship can be terminated by either party. Furthermore, termination may be for any reason, at any time, and with or without cause. Any statements or representation to the contrary should be regarded as void and invalid. ☐ - Notice Required. Termination of this Agreement must be made with at least ______________________ notice to the other party. ☐ - No Notice Required. Under no circumstance shall notice, written or oral, be required to terminate this Agreement. ☐ - Fixed Term Employment Agreement. The Employer and Employee agree that the employment for the Position shall begin on the ____ day of ______________________, 20____ and end on the ____ day of ______________________, 20____.  ☐ - Employer’s Termination (Fixed Term). If the Employer decides to terminate this Agreement before its end date, there shall be: ☐ No Penalty. ☐ A penalty in the amount of $______________________ that shall be paid to the employee.  ☐ - Employee’s Termination (Fixed Term). If the Employee decides to terminate this Agreement before its end date, there shall be: ☐ No Penalty. ☐ A penalty in the amount of $______________________ that shall be paid to the employer.\n",
            "\n",
            "Document:  XVII. Compliance. The Employee agrees to adhere to all sections of this Agreement in addition to any rules, regulations, or conduct standards of the Employer including obeying all local and federal laws. If the Employee does not adhere to this Agreement, company policies, including any task or obligation that is related to the responsibilities of their position, the Employer may terminate this Agreement without severance as stated in Section III.\n",
            "Playbook:  VIII. Severance. Should the Employer terminate this Agreement at any time after the Probationary Period, the Employee: ☐ - Shall be Entitled to Severance. Severance shall be equal to the Employee’s pay at the time of termination and shall last for a duration of ______________________ after the termination date. ☐ - Shall Not be Entitled to Severance. If terminated, the Employee’s pay, benefits, and any other privileges provided by the Employer shall terminate immediately.\n",
            "\n",
            "Document:  XVIII. Return of Property. The Employee agrees to return any and all property of the Employer upon the termination of employment. This includes, but is not limited to, equipment, electronics, records, access, notes, data, tests, vehicles, reports, models, or any property that is requested by the Employer.\n",
            "Playbook:  IX. Non-Competition Covenant & Confidentiality. During the term of employment, the Employee may have access to certain confidential information and may develop certain proprietary information or inventions that will be the property of the Employer. Employee agrees not to disclose any such information that has been learned, created, or discuss future plans with anyone except for those within the company of the Employer and their qualified representatives, agents, and any authorized personnel. This shall be in effect for ____ ☐ Days ☐ Weeks ☐ Months after the termination of the Employee’s employment (“Non-Compete Period”). If the Non-Compete Period is longer than the State mandated time-frame, the Non-Compete Period shall be the maximum time-period allowed by law. Employer requires that the Employee shall not bring any confidential or proprietary material of any former employer or to violate any other obligations the Employee may have to any former employer. During the period that Employee renders services to the Employer, Employee agrees to not engage in any employment, business, or activity that is in any way competitive with the business or proposed business of the Employer. Employee shall disclose to the Employer in writing any other gainful employment, business, or activity that he or she is currently associated with or participating in that competes with the Employer. Employee shall not assist any other person or organization in competing with the Employer or in preparing to engage in competition with the business or prospective business(es) of the Employer. Furthermore, it is agreed that during the Non-Compete Period the Employee shall not hire or attempt to employ any current employees of the Employer. It is further acknowledged and agreed that during the Non-Compete Period the Employee shall not solicit business from the Employer, including but not limited to, current or past clients that were retained by the Employer.\n",
            "\n",
            "Document:  XIX. Notices. All notices that are to be sent under this Agreement shall be done in writing and to be delivered via Certified Mail (return receipt) to the following mailing addresses: Employer __________________________ __________________________ __________________________ Employee __________________________ __________________________ __________________________ The aforementioned addresses may be changed with the act of either party providing written notice.\n",
            "Playbook:  VII. Employment Type. The Employer and Employee agree to enter into an: ☐ - At-Will Employment Arrangement. As the Employer and Employee will attempt, in good-faith, to a long profitable and good standing relationship, the employment relationship shall be considered “At-Will” which means the relationship can be terminated by either party. Furthermore, termination may be for any reason, at any time, and with or without cause. Any statements or representation to the contrary should be regarded as void and invalid. ☐ - Notice Required. Termination of this Agreement must be made with at least ______________________ notice to the other party. ☐ - No Notice Required. Under no circumstance shall notice, written or oral, be required to terminate this Agreement. ☐ - Fixed Term Employment Agreement. The Employer and Employee agree that the employment for the Position shall begin on the ____ day of ______________________, 20____ and end on the ____ day of ______________________, 20____.  ☐ - Employer’s Termination (Fixed Term). If the Employer decides to terminate this Agreement before its end date, there shall be: ☐ No Penalty. ☐ A penalty in the amount of $______________________ that shall be paid to the employee.  ☐ - Employee’s Termination (Fixed Term). If the Employee decides to terminate this Agreement before its end date, there shall be: ☐ No Penalty. ☐ A penalty in the amount of $______________________ that shall be paid to the employer.\n",
            "\n",
            "Document:  XX. Amendments. This Agreement may be modified or amended under the condition that any such amendment is attached and authorized by all parties.\n",
            "Playbook:  X. Integration. This Agreement contains the entire agreement between the parties, superseding in all respects any and all prior oral or written agreements or understandings related to the employment of the Employee by the Employer and shall be amended or modified only by written instrument signed by both of the parties hereto.\n",
            "\n",
            "Document:  XXI. Severability. This Agreement shall remain in effect in the event a section or provision is unenforceable or invalid. All remaining sections and provisions shall be deemed legally binding unless a court rules that any such provision or section is invalid or unenforceable, thus, limiting the effect of another provision or section. In such case, the affected provision or section shall be enforced as so limited.\n",
            "Playbook:  XII. Severability of Contract. The parties hereto agree that in the event any article or part thereof of this contract is held to be unenforceable or invalid, then said article or part shall be struck, and all remaining provisions shall remain in full force and effect.\n",
            "\n",
            "Document:  XXII. Waiver of Contractual Right. If the Employer or Employee fails to enforce a provision or section of this Agreement, it shall not be determined as a waiver or limitation. Either party shall remain the right to enforce and compel the compliance of this Agreement to its fullest extent.\n",
            "Playbook:  VII. Employment Type. The Employer and Employee agree to enter into an: ☐ - At-Will Employment Arrangement. As the Employer and Employee will attempt, in good-faith, to a long profitable and good standing relationship, the employment relationship shall be considered “At-Will” which means the relationship can be terminated by either party. Furthermore, termination may be for any reason, at any time, and with or without cause. Any statements or representation to the contrary should be regarded as void and invalid. ☐ - Notice Required. Termination of this Agreement must be made with at least ______________________ notice to the other party. ☐ - No Notice Required. Under no circumstance shall notice, written or oral, be required to terminate this Agreement. ☐ - Fixed Term Employment Agreement. The Employer and Employee agree that the employment for the Position shall begin on the ____ day of ______________________, 20____ and end on the ____ day of ______________________, 20____.  ☐ - Employer’s Termination (Fixed Term). If the Employer decides to terminate this Agreement before its end date, there shall be: ☐ No Penalty. ☐ A penalty in the amount of $______________________ that shall be paid to the employee.  ☐ - Employee’s Termination (Fixed Term). If the Employee decides to terminate this Agreement before its end date, there shall be: ☐ No Penalty. ☐ A penalty in the amount of $______________________ that shall be paid to the employer.\n",
            "\n",
            "Document:  XXIII. Governing Law. This Agreement shall be governed under the laws in the State of ___________________.\n",
            "Playbook:  XIII. Choice of Law. This contract shall be governed, interpreted, and construed in accordance with the laws of the State of ______________________. If the Employee decides to accept this Agreement, please sign in the space indicated. The signature will acknowledge this Agreement has been read, understood, and agreed to the aforementioned terms and conditions. IN WITNESS WHEREOF the Employer has caused this Agreement to be executed by its duly authorized officers and the Employee has agreed as of the date first above written. EMPLOYER ______________________________      Date ______________________________       Signature ______________________________       Print Name ______________________________       Title EMPLOYEE ______________________________      Date ______________________________       Signature ______________________________       Title\n",
            "\n",
            "Document:  XIV. Entire Agreement. This Agreement, along with any attachments or addendums, represents the entire agreement between the parties. Therefore, this Agreement supersedes any prior agreements, promises, conditions, or understandings between the Employer and Employee.  Employer’s Signature  Date ____________________       Print Name ______________________________  Title (if any) ______________________________  Employee’s Signature   Date ____________________       Print Name ______________________________  Title (if any) ______________________________\n",
            "Playbook:  XIII. Choice of Law. This contract shall be governed, interpreted, and construed in accordance with the laws of the State of ______________________. If the Employee decides to accept this Agreement, please sign in the space indicated. The signature will acknowledge this Agreement has been read, understood, and agreed to the aforementioned terms and conditions. IN WITNESS WHEREOF the Employer has caused this Agreement to be executed by its duly authorized officers and the Employee has agreed as of the date first above written. EMPLOYER ______________________________      Date ______________________________       Signature ______________________________       Print Name ______________________________       Title EMPLOYEE ______________________________      Date ______________________________       Signature ______________________________       Title\n",
            "\n"
          ]
        }
      ]
    },
    {
      "cell_type": "code",
      "source": [],
      "metadata": {
        "id": "tmK8jg6uQUt3"
      },
      "execution_count": null,
      "outputs": []
    }
  ]
}